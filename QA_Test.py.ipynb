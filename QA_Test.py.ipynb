{
 "cells": [
  {
   "cell_type": "code",
   "execution_count": 6,
   "id": "6ff17592",
   "metadata": {},
   "outputs": [],
   "source": [
    "import argparse\n",
    "import os\n",
    "import shutil\n",
    "import hashlib\n",
    "import logging\n",
    "from pathlib import Path\n"
   ]
  },
  {
   "cell_type": "code",
   "execution_count": 7,
   "id": "a319bd57",
   "metadata": {},
   "outputs": [],
   "source": [
    "def calculate_md5(filename, block_size=256*128):\n",
    "    \"\"\"Calculate MD5 of a file.\"\"\"\n",
    "    md5 = hashlib.md5()\n",
    "    with open(filename, 'rb') as f:\n",
    "        for chunk in iter(lambda: f.read(block_size), b''):\n",
    "            md5.update(chunk)\n",
    "    return md5.hexdigest()\n"
   ]
  },
  {
   "cell_type": "code",
   "execution_count": 8,
   "id": "34699bcb",
   "metadata": {},
   "outputs": [],
   "source": [
    "def sync_folders(source, replica):\n",
    "    \"\"\"Synchronize two folders.\"\"\"\n",
    "    for src_dir, _, files in os.walk(source):\n",
    "        dst_dir = src_dir.replace(source, replica, 1)\n",
    "        if not os.path.exists(dst_dir):\n",
    "            os.makedirs(dst_dir)\n",
    "            logging.info(f\"Directory created: {dst_dir}\")\n",
    "        for file_ in files:\n",
    "            src_file = os.path.join(src_dir, file_)\n",
    "            dst_file = os.path.join(dst_dir, file_)\n",
    "            if not os.path.exists(dst_file) or calculate_md5(src_file) != calculate_md5(dst_file):\n",
    "                shutil.copy2(src_file, dst_file)\n",
    "                logging.info(f\"File copied/updated: {dst_file}\")\n",
    "        for file_ in os.listdir(dst_dir):\n",
    "            src_file = os.path.join(src_dir, file_)\n",
    "            dst_file = os.path.join(dst_dir, file_)\n",
    "            if not os.path.exists(src_file):\n",
    "                os.remove(dst_file)\n",
    "                logging.info(f\"File deleted: {dst_file}\")\n"
   ]
  },
  {
   "cell_type": "code",
   "execution_count": 9,
   "id": "2c8f8d50",
   "metadata": {},
   "outputs": [],
   "source": [
    "def setup_logging(log_file_path):\n",
    "    \"\"\"Setup logging to file and console.\"\"\"\n",
    "    logging.basicConfig(level=logging.INFO,\n",
    "                        format='%(asctime)s - %(levelname)s - %(message)s',\n",
    "                        handlers=[logging.FileHandler(log_file_path),\n",
    "                                  logging.StreamHandler()])\n"
   ]
  },
  {
   "cell_type": "code",
   "execution_count": 12,
   "id": "e4a84b6f",
   "metadata": {},
   "outputs": [
    {
     "name": "stderr",
     "output_type": "stream",
     "text": [
      "2024-01-30 14:47:57,101 - INFO - Starting synchronization\n",
      "2024-01-30 14:47:57,103 - INFO - Directory created: C:\\Users\\Lospsy\\Desktop\\New folder\\Assigment\\ReplicaFolder\\kfgakg\n",
      "2024-01-30 14:47:57,103 - INFO - Synchronization completed\n"
     ]
    }
   ],
   "source": [
    "# Corrected paths with double backslashes\n",
    "source_path = 'C:\\\\Users\\\\Lospsy\\\\Desktop\\\\New folder\\\\Assigment\\\\SourceFolder'\n",
    "replica_path = 'C:\\\\Users\\\\Lospsy\\\\Desktop\\\\New folder\\\\Assigment\\\\ReplicaFolder'\n",
    "log_file_path = 'C:\\\\Users\\\\Lospsy\\\\Desktop\\\\New folder\\\\Assigment\\\\logfile.log'\n",
    "\n",
    "# Setup logging\n",
    "setup_logging(log_file_path)\n",
    "\n",
    "# Perform synchronization\n",
    "logging.info(\"Starting synchronization\")\n",
    "sync_folders(source_path, replica_path)\n",
    "logging.info(\"Synchronization completed\")\n",
    "\n"
   ]
  },
  {
   "cell_type": "code",
   "execution_count": null,
   "id": "046b23ff",
   "metadata": {},
   "outputs": [],
   "source": []
  }
 ],
 "metadata": {
  "kernelspec": {
   "display_name": "Python 3 (ipykernel)",
   "language": "python",
   "name": "python3"
  },
  "language_info": {
   "codemirror_mode": {
    "name": "ipython",
    "version": 3
   },
   "file_extension": ".py",
   "mimetype": "text/x-python",
   "name": "python",
   "nbconvert_exporter": "python",
   "pygments_lexer": "ipython3",
   "version": "3.10.9"
  }
 },
 "nbformat": 4,
 "nbformat_minor": 5
}
